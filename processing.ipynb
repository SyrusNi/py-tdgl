{
 "cells": [
  {
   "cell_type": "code",
   "execution_count": 1,
   "metadata": {},
   "outputs": [],
   "source": [
    "import tdgl\n",
    "from tdgl.geometry import box, circle\n",
    "from tdgl.visualization.animate import create_animation\n",
    "import numpy as np\n",
    "import h5py\n",
    "import os\n",
    "import matplotlib.pyplot as plt\n",
    "from IPython.display import HTML, display"
   ]
  },
  {
   "cell_type": "code",
   "execution_count": null,
   "metadata": {},
   "outputs": [],
   "source": [
    "path = r''\n",
    "solution = tdgl.Solution.from_hdf5(path)"
   ]
  },
  {
   "cell_type": "code",
   "execution_count": null,
   "metadata": {},
   "outputs": [],
   "source": [
    "def plot_simulations_of_times(solution, setpoints):\n",
    "    '''\n",
    "    Plot the order parameter and current at the time that is closest to the given time points.\n",
    "    '''\n",
    "    for time in setpoints:\n",
    "\n",
    "        step = solution.closest_solve_step(time)\n",
    "        exact_time = solution.times[step]\n",
    "        solution.load_tdgl_data(step)\n",
    "\n",
    "        A = solution.applied_vector_potential(np.array([-1, 1]), np.array([-1, 1]), np.array([0, 0]), t=exact_time)\n",
    "        Bz = A[0, 0] - A[1, 0]\n",
    "\n",
    "        print('Time: {exact_time:.1f}s  Field: {field:.2f}{unit}'.format(exact_time = solution.times[step], field = Bz, unit=solution.field_units))\n",
    "        fig, axes = solution.plot_order_parameter(figsize=(6, 4))\n",
    "        solution.plot_currents(min_stream_amp=0.075, vmin=0, vmax=10, figsize = (3,3))\n",
    "\n",
    "        plt.show()\n",
    "\n",
    "samples = range(0, 1800, 300)\n",
    "\n",
    "plot_simulations_of_times(solution, samples)"
   ]
  }
 ],
 "metadata": {
  "kernelspec": {
   "display_name": "tdgl",
   "language": "python",
   "name": "python3"
  },
  "language_info": {
   "codemirror_mode": {
    "name": "ipython",
    "version": 3
   },
   "file_extension": ".py",
   "mimetype": "text/x-python",
   "name": "python",
   "nbconvert_exporter": "python",
   "pygments_lexer": "ipython3",
   "version": "3.10.14"
  }
 },
 "nbformat": 4,
 "nbformat_minor": 2
}
